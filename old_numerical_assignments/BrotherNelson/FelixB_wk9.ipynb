{
 "cells": [
  {
   "cell_type": "markdown",
   "metadata": {},
   "source": [
    "# Overview\n",
    "\n",
    "This week we will continue using Euler's method to solve problems that you wouldn't be able to solve with paper and pencil.  As you may recall, Euler's method involves calculating positions and velocities at very small time steps into the future.  Repeatedly stepping forward in time by a very small amount, you can determine position and velocity at any future time.\n",
    "\n",
    "\n",
    "$$v_{i+1} = v_i + a_i \\Delta t$$\n",
    "\n",
    "$$x_{i+1} = x_i + v_i \\Delta t$$\n",
    "\n",
    "You have already seen several examples of Euler's method in previous week's assignments.  If you need a refresher, go back and look at those assignments.  The only difference between this week's assignment and previous week's is that the acceleration will become more realistic.  \n",
    "\n",
    "\n",
    "\n",
    "\n",
    "## Your Problem\n",
    "\n",
    "In 2012, Felix Baumgartner successfully jumped from a height of $39.0$ km above the surface of the Earth. Consider the complexities that this real-world examples provides:\n",
    "\n",
    "1. For this problem, we must include the force of air drag to get the calculation right.  The force of air drag is given by: $F_d = {1\\over 2} \\rho A C v^2$, with $C = 0.58$, $A = 1.04$ m$^2$\n",
    "2. Because Felix jumped from such a high altitude, the density of the atmosphere changed as he fell. The density of the atmosphere changes with altitude according to the following equation: $\\rho = 1.2 \\text{ (kg/m}^3\\text{)} e^{\\frac{-h}{ 1 \\times 10^4}}$\n",
    "\n",
    "3. The acceleration due to gravity, g, is not constant over the flight, but changes with altitude according to the following equation: $g = {9.8 \\text{ m/s}^2 \\over (1 + {\\frac{h}{ R_E}})^2}$, where $R_E = 6.37 \\times 10^6$ m\n",
    "4. Assume that Felix's mass is $m = 73$ kg and that he starts from rest.\n",
    "\n",
    "Use Euler's method to answer the following questions:\n",
    "1. How long does it take Felix to reach Earth's surface.  Give your answer to the nearest second. (Note: We are not considering a parachute in this case.. ouch.)  Answer: You should find that his flight took $\\approx 400 $ s.\n",
    "2. Compare the real fall time you just calculated to the dragless, constant-g ($9.8$m/s$^2$) fall time.  Answer: You should find that the fal\n",
    "\n",
    "\n",
    "Hints:\n",
    "1. Draw Felix's free-body diagram.\n",
    "2. Assemble Newton's second law by summing the forces.\n",
    "3. Solve for Felix's acceleration.\n",
    "4. Use this expression  **inside** your while loop to update Felix's acceleration."
   ]
  },
  {
   "cell_type": "code",
   "execution_count": 13,
   "metadata": {},
   "outputs": [
    {
     "output_type": "stream",
     "name": "stdout",
     "text": [
      "Felix took 395 s to hit the ground. \n"
     ]
    }
   ],
   "source": [
    "from numpy import exp\n",
    "\n",
    "#constants\n",
    "C = 0.58\n",
    "A = 1.04\n",
    "RE = 6.37e6\n",
    "m = 73\n",
    "dt = 0.01\n",
    "\n",
    "#variables formatted as lists. Filled in with initial values. \n",
    "y = [39.0e3]\n",
    "v = [0]\n",
    "g = [(9.8/(1+y[0]/RE)**2)]\n",
    "rho = [1.2*exp(-y[0]/1e4)]\n",
    "a = [-g[0] + 0.5*rho[0]*A*C*v[0]**2]\n",
    "t = [0]\n",
    "\n",
    "#while above the ground\n",
    "while y[-1] > 0:\n",
    "\n",
    "    #update g and rho\n",
    "    g.append(9.8/(1+y[-1]/RE)**2)\n",
    "    rho.append(1.2*exp(-y[-1]/1e4))\n",
    "\n",
    "    #calculate acceleration\n",
    "    a.append(-g[-1] + 0.5*rho[-1]*A*C*v[-1]**2/m)\n",
    "\n",
    "    #calculate velocity and position\n",
    "    v.append(a[-1]*dt + v[-1])\n",
    "    y.append(v[-1]*dt + y[-1])\n",
    "\n",
    "    #update t\n",
    "    t.append(dt + t[-1])\n",
    "\n",
    "print(f'Felix took {t[-1]:.0f} s to hit the ground. ')"
   ]
  },
  {
   "source": [
    "## Finding the time it takes to hit the ground in a dragless, constant g fall. \n",
    "We can use the equation:\n",
    "$$\\Delta y = \\frac{-g}{2} t^2 + v_0 t$$ \n",
    "and if we solve for $t$ we get:\n",
    "$$t = \\sqrt{\\frac{2 h_0}{g}}$$"
   ],
   "cell_type": "markdown",
   "metadata": {}
  },
  {
   "cell_type": "code",
   "execution_count": 12,
   "metadata": {},
   "outputs": [
    {
     "output_type": "stream",
     "name": "stdout",
     "text": [
      "The time it takes for Felix to hit the ground in a dragless, constant g fall is 89 s. \n"
     ]
    }
   ],
   "source": [
    "from numpy import sqrt\n",
    "g = 9.8\n",
    "h0 = 39e3\n",
    "\n",
    "t_easy = sqrt(2*h0/g)\n",
    "print(f'The time it takes for Felix to hit the ground in a dragless, constant g fall is {t_easy:.0f} s. ')"
   ]
  }
 ],
 "metadata": {
  "kernelspec": {
   "display_name": "Python 3",
   "language": "python",
   "name": "python3"
  },
  "language_info": {
   "codemirror_mode": {
    "name": "ipython",
    "version": 3
   },
   "file_extension": ".py",
   "mimetype": "text/x-python",
   "name": "python",
   "nbconvert_exporter": "python",
   "pygments_lexer": "ipython3",
   "version": "3.8.3-final"
  }
 },
 "nbformat": 4,
 "nbformat_minor": 4
}